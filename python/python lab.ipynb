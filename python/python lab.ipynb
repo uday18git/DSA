{
 "cells": [
  {
   "cell_type": "code",
   "execution_count": 1,
   "id": "55cb16bd",
   "metadata": {},
   "outputs": [
    {
     "name": "stdout",
     "output_type": "stream",
     "text": [
      "Enter the first number: 1\n",
      "Enter the second number: 2\n",
      "Select operation:\n",
      "1. Add\n",
      "2. Subtract\n",
      "3. Multiply\n",
      "4. Divide\n",
      "Enter choice (1/2/3/4): 1\n",
      "1.0 + 2.0 = 3.0\n"
     ]
    }
   ],
   "source": [
    "# Q1) A\n",
    "num1 = float(input(\"Enter the first number: \"))\n",
    "num2 = float(input(\"Enter the second number: \"))\n",
    "print(\"Select operation:\")\n",
    "print(\"1. Add\")\n",
    "print(\"2. Subtract\")\n",
    "print(\"3. Multiply\")\n",
    "print(\"4. Divide\")\n",
    "choice = int(input(\"Enter choice (1/2/3/4): \"))\n",
    "\n",
    "if choice == 1:\n",
    "    result = num1 + num2\n",
    "    print(num1, \"+\", num2, \"=\", result)\n",
    "elif choice == 2:\n",
    "    result = num1 - num2\n",
    "    print(num1, \"-\", num2, \"=\", result)\n",
    "elif choice == 3:\n",
    "    result = num1 * num2\n",
    "    print(num1, \"*\", num2, \"=\", result)\n",
    "elif choice == 4:\n",
    "    if num2 == 0:\n",
    "        print(\"Error: Division by zero\")\n",
    "    else:\n",
    "        result = num1 / num2\n",
    "        print(num1, \"/\", num2, \"=\", result)\n",
    "else:\n",
    "    print(\"Invalid choice\")\n"
   ]
  },
  {
   "cell_type": "code",
   "execution_count": 1,
   "id": "91e5851d",
   "metadata": {},
   "outputs": [
    {
     "name": "stdout",
     "output_type": "stream",
     "text": [
      "[('date', 4), ('apple', 5), ('banana', 6), ('cherry', 6), ('elderberry', 10)]\n"
     ]
    }
   ],
   "source": [
    "# Q1) B\n",
    "\n",
    "strings = ['apple', 'banana', 'cherry', 'date', 'elderberry']\n",
    "tuples = [(s,len(s)) for s in strings]\n",
    "sorted_tuples = sorted(tuples,key = lambda x:x[1])\n",
    "print(sorted_tuples)"
   ]
  },
  {
   "cell_type": "code",
   "execution_count": 3,
   "id": "62ff932a",
   "metadata": {},
   "outputs": [
    {
     "name": "stdout",
     "output_type": "stream",
     "text": [
      "Enter the first number1\n",
      "Enter the second number10\n",
      "2\n",
      "3\n",
      "5\n",
      "7\n"
     ]
    }
   ],
   "source": [
    "# Q2) A\n",
    "import math\n",
    "a = int(input(\"Enter the first number\"))\n",
    "b = int(input(\"Enter the second number\"))\n",
    "for i in range(a,b+1):\n",
    "    flag=True\n",
    "    for j in range(2,int(math.sqrt(i))+1):\n",
    "        if i%j==0:\n",
    "            flag=False\n",
    "            break\n",
    "    if(flag==True and i>1):\n",
    "        print(i)\n",
    "\n",
    "    "
   ]
  },
  {
   "cell_type": "code",
   "execution_count": 25,
   "id": "a0b49a30",
   "metadata": {},
   "outputs": [
    {
     "name": "stdout",
     "output_type": "stream",
     "text": [
      "List of subjects after inserting a new subject:\n",
      "['Data Structures and Algorithms', 'Computer Organization and Architecture', 'Computer Networks', 'Database Management Systems', 'Operating Systems', 'Python Programming Lab', 'Web Technologies and Applications']\n"
     ]
    }
   ],
   "source": [
    "# Q2) B\n",
    "subjects = ['Data Structures and Algorithms', 'Computer Organization and Architecture', 'Database Management Systems', 'Operating Systems', 'Python Programming Lab', 'Web Technologies and Applications']\n",
    "# for i in subjects:\n",
    "#     print(i)\n",
    "    \n",
    "# print(subjects[0])\n",
    "# print(subjects[4])\n",
    "# print(subjects[0:4])\n",
    "# print(subjects[-4:])\n",
    "# print(\"Python Programming Lab\" in subjects)\n",
    "# subjects.append(\"hi\")\n",
    "# print(subjects)\n",
    "subjects.insert(2, \"Computer Networks\") # \n",
    "print(\"List of subjects after inserting a new subject:\")\n",
    "print(subjects)\n"
   ]
  },
  {
   "cell_type": "code",
   "execution_count": 8,
   "id": "e7393f15",
   "metadata": {},
   "outputs": [
    {
     "name": "stdout",
     "output_type": "stream",
     "text": [
      "Dictionary Operations:\n",
      "1. Add an entry\n",
      "2. Search for a word\n",
      "3. Find words with the same meaning\n",
      "4. Remove an entry\n",
      "5. Display all words sorted alphabetically\n",
      "6. Quit\n",
      "Enter your choice (1-6): 1\n",
      "Enter the word to add: hi\n",
      "Enter the meaning of the word: greeting\n",
      "Entry added successfully\n",
      "Dictionary Operations:\n",
      "1. Add an entry\n",
      "2. Search for a word\n",
      "3. Find words with the same meaning\n",
      "4. Remove an entry\n",
      "5. Display all words sorted alphabetically\n",
      "6. Quit\n",
      "Enter your choice (1-6): 6\n",
      "Exiting dictionary\n"
     ]
    }
   ],
   "source": [
    "#3A\n",
    "dictionary = {}\n",
    "\n",
    "# Define a function to add a new entry to the dictionary\n",
    "def add_entry():\n",
    "    word = input(\"Enter the word to add: \")\n",
    "    meaning = input(\"Enter the meaning of the word: \")\n",
    "    dictionary[word] = meaning\n",
    "    print(\"Entry added successfully\")\n",
    "\n",
    "# Define a function to search for a word and retrieve its meaning\n",
    "def search_word():\n",
    "    word = input(\"Enter the word to search: \")\n",
    "    if word in dictionary:\n",
    "        print(\"The meaning of\", word, \"is\", dictionary[word])\n",
    "    else:\n",
    "        print(\"Word not found in dictionary\")\n",
    "\n",
    "# Define a function to find words with the same meaning\n",
    "def find_words():\n",
    "    meaning = input(\"Enter the meaning to search: \")\n",
    "    words = [word for word, mean in dictionary.items() if mean == meaning]\n",
    "    if words:\n",
    "        print(\"Words with the same meaning:\", \", \".join(words))\n",
    "    else:\n",
    "        print(\"No words found with the given meaning\")\n",
    "\n",
    "# Define a function to remove an entry from the dictionary\n",
    "def remove_entry():\n",
    "    word = input(\"Enter the word to remove: \")\n",
    "    if word in dictionary:\n",
    "        del dictionary[word]\n",
    "        print(\"Entry removed successfully\")\n",
    "    else:\n",
    "        print(\"Word not found in dictionary\")\n",
    "\n",
    "# Define a function to display all words sorted alphabetically\n",
    "def display_words():\n",
    "    words = sorted(dictionary.keys())\n",
    "    if words:\n",
    "        print(\"List of words in the dictionary:\")\n",
    "        for word in words:\n",
    "            print(word)\n",
    "    else:\n",
    "        print(\"Dictionary is empty\")\n",
    "\n",
    "# Define a function to display the menu of operations\n",
    "def display_menu():\n",
    "    print(\"Dictionary Operations:\")\n",
    "    print(\"1. Add an entry\")\n",
    "    print(\"2. Search for a word\")\n",
    "    print(\"3. Find words with the same meaning\")\n",
    "    print(\"4. Remove an entry\")\n",
    "    print(\"5. Display all words sorted alphabetically\")\n",
    "    print(\"6. Quit\")\n",
    "\n",
    "while True:\n",
    "    display_menu()\n",
    "    choice = input(\"Enter your choice (1-6): \")\n",
    "    if choice == \"1\":\n",
    "        add_entry()\n",
    "    elif choice == \"2\":\n",
    "        search_word()\n",
    "    elif choice == \"3\":\n",
    "        find_words()\n",
    "    elif choice == \"4\":\n",
    "        remove_entry()\n",
    "    elif choice == \"5\":\n",
    "        display_words()\n",
    "    elif choice == \"6\":\n",
    "        print(\"Exiting dictionary\")\n",
    "        break\n",
    "    else:\n",
    "        print(\"Invalid choice, please try again\")\n"
   ]
  },
  {
   "cell_type": "code",
   "execution_count": 9,
   "id": "fe7c46a8",
   "metadata": {},
   "outputs": [
    {
     "data": {
      "text/plain": [
       "dict_items([('hi', 'greeting')])"
      ]
     },
     "execution_count": 9,
     "metadata": {},
     "output_type": "execute_result"
    }
   ],
   "source": [
    "dictionary.items()"
   ]
  },
  {
   "cell_type": "code",
   "execution_count": 6,
   "id": "330e1d0b",
   "metadata": {},
   "outputs": [
    {
     "data": {
      "text/plain": [
       "9"
      ]
     },
     "execution_count": 6,
     "metadata": {},
     "output_type": "execute_result"
    }
   ],
   "source": [
    "# Q3) B\n",
    "def second_largest(arr):\n",
    "    maximum=-1000\n",
    "    for i in arr:\n",
    "        if i>maximum:\n",
    "            maximum=i\n",
    "    second_maximum=-1000\n",
    "    for i in arr:\n",
    "        if i > second_maximum and i< maximum:\n",
    "            second_maximum=i\n",
    "    return second_maximum\n",
    "\n",
    "arr = [10,9,8,7]\n",
    "second_largest(arr)"
   ]
  },
  {
   "cell_type": "code",
   "execution_count": 10,
   "id": "6f891b43",
   "metadata": {},
   "outputs": [
    {
     "name": "stdout",
     "output_type": "stream",
     "text": [
      "Dictionary items:\n",
      "('rahul', 'genius')\n",
      "('kumar', 'smart')\n",
      "('ankita', 'intelligent')\n",
      "Dictionary keys:\n",
      "rahul\n",
      "kumar\n",
      "ankita\n",
      "Dictionary values:\n",
      "genius\n",
      "smart\n",
      "intelligent\n",
      "Enter the username to get password: kumar\n",
      "Password of kumar is smart\n",
      "Enter the username to change password: kumar\n",
      "Enter the new password: genius\n",
      "Password of kumar changed successfully\n"
     ]
    }
   ],
   "source": [
    "passwd = {'rahul': 'genius', 'kumar': 'smart', 'ankita': 'intelligent'}\n",
    "\n",
    "# Print all the items in the dictionary\n",
    "print(\"Dictionary items:\")\n",
    "for item in passwd.items():\n",
    "    print(item)\n",
    "\n",
    "# Print all the keys in the dictionary\n",
    "print(\"Dictionary keys:\")\n",
    "for key in passwd.keys():\n",
    "    print(key)\n",
    "\n",
    "# Print all the values in the dictionary\n",
    "print(\"Dictionary values:\")\n",
    "for value in passwd.values():\n",
    "    print(value)\n",
    "\n",
    "# Get the password of a user\n",
    "user = input(\"Enter the username to get password: \")\n",
    "if user in passwd:\n",
    "    print(\"Password of\", user, \"is\", passwd[user])\n",
    "else:\n",
    "    print(\"User not found in dictionary\")\n",
    "\n",
    "# Change the password of a user\n",
    "user = input(\"Enter the username to change password: \")\n",
    "if user in passwd:\n",
    "    new_passwd = input(\"Enter the new password: \")\n",
    "    passwd[user] = new_passwd\n",
    "    print(\"Password of\", user, \"changed successfully\")\n",
    "else:\n",
    "    print(\"User not found in dictionary\")\n"
   ]
  },
  {
   "cell_type": "code",
   "execution_count": 7,
   "id": "4cee34a9",
   "metadata": {},
   "outputs": [
    {
     "name": "stdout",
     "output_type": "stream",
     "text": [
      "3\n"
     ]
    }
   ],
   "source": [
    "# Q4)A\n",
    "\n",
    "# b.Develop a python program to count all the occurrences of vowels,\n",
    "# consonants and digits from the given text using Regular expressions.\n",
    "import re\n",
    "text = \"Hello World! 123\"\n",
    "\n",
    "# Define regular expressions for vowels, consonants, and digits\n",
    "vowels = re.compile('[aeiou]')\n",
    "vowel_count = len(re.findall(vowels,text))\n",
    "print(vowel_count)"
   ]
  },
  {
   "cell_type": "code",
   "execution_count": 38,
   "id": "b6f5f6ac",
   "metadata": {},
   "outputs": [
    {
     "name": "stdout",
     "output_type": "stream",
     "text": [
      "6\n",
      "Enter an item to check for: 3\n",
      "3 is present in the tuple\n",
      "Enter the index to access2\n",
      "3\n"
     ]
    }
   ],
   "source": [
    "# Q5\n",
    "# A.\tWrite a python program to create a tuple and perform the following operations   \n",
    "# •\tAdding an items\n",
    "# •\tDisplaying the length of the tuple\n",
    "# •\tChecking for an item in the tuple\n",
    "# •\tAccessing an items\n",
    "my_tuple = (1, 2, 3, 4, 5)\n",
    "\n",
    "# Adding an item to the tuple\n",
    "my_tuple += (6,)\n",
    "print(len(my_tuple))\n",
    "\n",
    "item = int(input(\"Enter an item to check for: \"))\n",
    "if item in my_tuple:\n",
    "    print(item, \"is present in the tuple\")\n",
    "else:\n",
    "    print(item, \"is not present in the tuple\")\n",
    "\n",
    "# accessing elements using index\n",
    "\n",
    "num = int(input(\"Enter the index to access\"))\n",
    "if num>len(my_tuple)-1:\n",
    "    print(\"Enter a valid index\")\n",
    "else:\n",
    "    print(my_tuple[num])\n",
    "        \n",
    "    \n",
    "    "
   ]
  },
  {
   "cell_type": "code",
   "execution_count": 40,
   "id": "b1a3c7e3",
   "metadata": {},
   "outputs": [
    {
     "name": "stdout",
     "output_type": "stream",
     "text": [
      "Enter a line: hi\n",
      "Enter a line: ehllo\n",
      "Enter a line: erara\n",
      "Enter a line: araafdaf\n",
      "Enter a line: agagadgag\n",
      "agagadgag\n",
      "hi\n"
     ]
    }
   ],
   "source": [
    "# Q5 B\n",
    "filename = 'user_input.txt'\n",
    "with open (filename,'w') as file:\n",
    "    for i in range(5):\n",
    "        inp = input(\"Enter a line: \")\n",
    "        file.write(inp + '\\n')\n",
    "        \n",
    "with open(filename,'r')as file:\n",
    "    text = file.read()\n",
    "    words = text.split()  # splitting the text in words\n",
    "    max_len = max(words,key=len)\n",
    "    min_len = min(words,key=len)\n",
    "    print(max_len)\n",
    "    print(min_len)"
   ]
  },
  {
   "cell_type": "code",
   "execution_count": 48,
   "id": "c5cc6c2f",
   "metadata": {},
   "outputs": [
    {
     "name": "stdout",
     "output_type": "stream",
     "text": [
      "5\n"
     ]
    }
   ],
   "source": [
    "# a.\tWrite a python function binarySearch() to read a sorted array and search for the key element.\n",
    "# Display the appropriate messages.\n",
    "def binarySearch(arr,high,low,key):\n",
    "    if high>=low:\n",
    "        mid = (high+low)//2\n",
    "        if(arr[mid]==key):\n",
    "            return mid\n",
    "        if(key>arr[mid]):\n",
    "            return binarySearch(arr,high,mid+1,key)\n",
    "        else:\n",
    "            return binarySearch(arr,mid-1,low,key)\n",
    "    else:\n",
    "        return -1\n",
    "        \n",
    "arr = [1,2,7,34,56] #should be sorted array \n",
    "print(binarySearch(arr,len(arr)-1,0,56)+1)"
   ]
  },
  {
   "cell_type": "code",
   "execution_count": 49,
   "id": "e4b49f20",
   "metadata": {},
   "outputs": [
    {
     "name": "stdout",
     "output_type": "stream",
     "text": [
      "Current balance: 1000\n",
      "Amount 500 deposited successfully.\n",
      "Current balance: 1500\n",
      "Amount 200 withdrawn successfully.\n",
      "Current balance: 1300\n",
      "Error: Insufficient balance.\n"
     ]
    }
   ],
   "source": [
    "# b.\tWrite a python program to simulate saving account processing in a bank using constructors. \n",
    "# Create Deposit and Withdraw with other member function and Check for Validation while withdrawing the amount. \n",
    "# Raise the appropriate exceptions when depositing and withdrawing an incorrect amount.\n",
    "# Display appropriate messages.\n",
    "class SavingsAccount:\n",
    "    def __init__(self, initial_balance=0):\n",
    "        if initial_balance < 0:\n",
    "            raise ValueError(\"Initial balance cannot be negative.\")\n",
    "        self.balance = initial_balance\n",
    "\n",
    "    def deposit(self, amount):\n",
    "        if amount <= 0:\n",
    "            raise ValueError(\"Deposit amount should be greater than zero.\")\n",
    "        self.balance += amount\n",
    "        print(f\"Amount {amount} deposited successfully.\")\n",
    "        self.display_balance()\n",
    "\n",
    "    def withdraw(self, amount):\n",
    "        if amount <= 0:\n",
    "            raise ValueError(\"Withdrawal amount should be greater than zero.\")\n",
    "        if amount > self.balance:\n",
    "            raise ValueError(\"Insufficient balance.\")\n",
    "        self.balance -= amount\n",
    "        print(f\"Amount {amount} withdrawn successfully.\")\n",
    "        self.display_balance()\n",
    "\n",
    "    def display_balance(self):\n",
    "        print(f\"Current balance: {self.balance}\")\n",
    "\n",
    "\n",
    "# Example usage\n",
    "try:\n",
    "    account = SavingsAccount(1000)\n",
    "    account.display_balance()\n",
    "    account.deposit(500)\n",
    "    account.withdraw(200)\n",
    "    account.withdraw(2000)  # Raises ValueError: Insufficient balance\n",
    "    account.withdraw(-100)  # Raises ValueError: Withdrawal amount should be greater than zero\n",
    "except ValueError as error:\n",
    "    print(f\"Error: {str(error)}\")\n"
   ]
  },
  {
   "cell_type": "code",
   "execution_count": 50,
   "id": "dcce0e9a",
   "metadata": {},
   "outputs": [
    {
     "name": "stdout",
     "output_type": "stream",
     "text": [
      "Pushed 10 into the stack.\n",
      "Pushed 20 into the stack.\n",
      "Pushed 30 into the stack.\n",
      "Stack content:\n",
      "30\n",
      "20\n",
      "10\n",
      "Popped item: 30\n",
      "Stack content:\n",
      "20\n",
      "10\n",
      "Popped item: 20\n",
      "Stack content:\n",
      "10\n",
      "Enqueued A into the queue.\n",
      "Enqueued B into the queue.\n",
      "Enqueued C into the queue.\n",
      "Queue content:\n",
      "A\n",
      "B\n",
      "C\n",
      "Dequeued item: A\n",
      "Queue content:\n",
      "B\n",
      "C\n",
      "Dequeued item: B\n",
      "Queue content:\n",
      "C\n"
     ]
    }
   ],
   "source": [
    "# 7 A\n",
    "class Stack:\n",
    "    def __init__(self):\n",
    "        self.stack = []\n",
    "\n",
    "    def is_empty(self):\n",
    "        return len(self.stack) == 0\n",
    "\n",
    "    def push(self, item):\n",
    "        self.stack.append(item)\n",
    "        print(f\"Pushed {item} into the stack.\")\n",
    "\n",
    "    def pop(self):\n",
    "        if self.is_empty():\n",
    "            raise IndexError(\"Stack is empty. Cannot pop an item.\")\n",
    "        return self.stack.pop()\n",
    "\n",
    "    def display(self):\n",
    "        if self.is_empty():\n",
    "            print(\"Stack is empty.\")\n",
    "        else:\n",
    "            print(\"Stack content:\")\n",
    "            for item in reversed(self.stack):\n",
    "                print(item)\n",
    "\n",
    "\n",
    "class Queue:\n",
    "    def __init__(self):\n",
    "        self.queue = []\n",
    "\n",
    "    def is_empty(self):\n",
    "        return len(self.queue) == 0\n",
    "\n",
    "    def enqueue(self, item):\n",
    "        self.queue.append(item)\n",
    "        print(f\"Enqueued {item} into the queue.\")\n",
    "\n",
    "    def dequeue(self):\n",
    "        if self.is_empty():\n",
    "            raise IndexError(\"Queue is empty. Cannot dequeue an item.\")\n",
    "        return self.queue.pop(0)\n",
    "\n",
    "    def display(self):\n",
    "        if self.is_empty():\n",
    "            print(\"Queue is empty.\")\n",
    "        else:\n",
    "            print(\"Queue content:\")\n",
    "            for item in self.queue:\n",
    "                print(item)\n",
    "\n",
    "\n",
    "# Example usage\n",
    "try:\n",
    "    # Stack operations\n",
    "    stack = Stack()\n",
    "    stack.push(10)\n",
    "    stack.push(20)\n",
    "    stack.push(30)\n",
    "    stack.display()\n",
    "    print(\"Popped item:\", stack.pop())\n",
    "    stack.display()\n",
    "    print(\"Popped item:\", stack.pop())\n",
    "    stack.display()\n",
    "    # stack.pop()  # Raises IndexError: Stack is empty. Cannot pop an item.\n",
    "\n",
    "    # Queue operations\n",
    "    queue = Queue()\n",
    "    queue.enqueue(\"A\")\n",
    "    queue.enqueue(\"B\")\n",
    "    queue.enqueue(\"C\")\n",
    "    queue.display()\n",
    "    print(\"Dequeued item:\", queue.dequeue())\n",
    "    queue.display()\n",
    "    print(\"Dequeued item:\", queue.dequeue())\n",
    "    queue.display()\n",
    "    # queue.dequeue()  # Raises IndexError: Queue is empty. Cannot dequeue an item.\n",
    "\n",
    "except IndexError as error:\n",
    "    print(f\"Error: {str(error)}\")\n"
   ]
  },
  {
   "cell_type": "code",
   "execution_count": 2,
   "id": "9c8b56a7",
   "metadata": {},
   "outputs": [
    {
     "name": "stdout",
     "output_type": "stream",
     "text": [
      "Random Numbers: [536, 1000, 9207, 2021, 3969, 436, 7680, 7276, 7724, 1518, 6021, 9343, 868, 1176, 9706, 4028, 5100, 7115, 2472, 771]\n",
      "Odd numbers of length 2 and 4:\n",
      "9207\n",
      "2021\n",
      "3969\n",
      "6021\n",
      "9343\n",
      "7115\n"
     ]
    }
   ],
   "source": [
    "# 7 B\n",
    "import random\n",
    "\n",
    "numbers = []\n",
    "for _ in range(20):\n",
    "    numbers.append(random.randint(1, 10000))\n",
    "\n",
    "print(\"Random Numbers:\", numbers)\n",
    "\n",
    "odd_numbers = []\n",
    "for num in numbers:\n",
    "    if num % 2 != 0:\n",
    "        num_length = len(str(num))\n",
    "        if num_length == 2 or num_length == 4:\n",
    "            odd_numbers.append(num)\n",
    "\n",
    "print(\"Odd numbers of length 2 and 4:\")\n",
    "for odd_num in odd_numbers:\n",
    "    print(odd_num)\n"
   ]
  },
  {
   "cell_type": "code",
   "execution_count": 58,
   "id": "c4ac0729",
   "metadata": {},
   "outputs": [
    {
     "name": "stdout",
     "output_type": "stream",
     "text": [
      "The result of 10 / 2 is 5.0.\n",
      "Division operation completed.\n",
      "Error: Cannot divide by zero.\n",
      "Division operation completed.\n",
      "Error: Invalid operand type.\n",
      "Division operation completed.\n"
     ]
    }
   ],
   "source": [
    "# 8 A\n",
    "def divide_numbers(a, b):\n",
    "    try:\n",
    "        result = a / b\n",
    "    except ZeroDivisionError:\n",
    "        print(\"Error: Cannot divide by zero.\")\n",
    "    except TypeError:\n",
    "        print(\"Error: Invalid operand type.\")\n",
    "    else:\n",
    "        print(f\"The result of {a} / {b} is {result}.\")\n",
    "    finally:\n",
    "        print(\"Division operation completed.\")\n",
    "\n",
    "# Example usage\n",
    "divide_numbers(10, 2)\n",
    "divide_numbers(10, 0)\n",
    "divide_numbers(10, '2')\n"
   ]
  },
  {
   "cell_type": "code",
   "execution_count": 2,
   "id": "dbea6fb4",
   "metadata": {},
   "outputs": [
    {
     "name": "stdout",
     "output_type": "stream",
     "text": [
      "Enter 5-6 lines of text:\n",
      "Hello\n",
      "HELOO world\n",
      "123\n",
      "123\n",
      "12\n",
      "Text file created successfully at sample.txt\n",
      "File Details - sample.txt:\n",
      "---------\n",
      "Content:\n",
      "Hello\n",
      "HELOO world\n",
      "123\n",
      "123\n",
      "12\n",
      "\n",
      "---------\n",
      "Character Counts:\n",
      "Uppercase: 6\n",
      "Lowercase: 9\n",
      "Digits: 8\n"
     ]
    }
   ],
   "source": [
    "def count_characters(text):\n",
    "    uppercase_count = 0\n",
    "    lowercase_count = 0\n",
    "    digit_count = 0\n",
    "\n",
    "    for char in text:\n",
    "        if char.isupper():\n",
    "            uppercase_count += 1\n",
    "        elif char.islower():\n",
    "            lowercase_count += 1\n",
    "        elif char.isdigit():\n",
    "            digit_count += 1\n",
    "\n",
    "    return uppercase_count, lowercase_count, digit_count\n",
    "\n",
    "def display_file_details(filepath):\n",
    "    with open(filepath, 'r') as file:\n",
    "        file_content = file.read()\n",
    "\n",
    "    uppercase_count, lowercase_count, digit_count = count_characters(file_content)\n",
    "\n",
    "    print(f\"File Details - {filepath}:\")\n",
    "    print(\"---------\")\n",
    "    print(\"Content:\")\n",
    "    print(file_content)\n",
    "    print(\"---------\")\n",
    "    print(\"Character Counts:\")\n",
    "    print(f\"Uppercase: {uppercase_count}\")\n",
    "    print(f\"Lowercase: {lowercase_count}\")\n",
    "    print(f\"Digits: {digit_count}\")\n",
    "\n",
    "\n",
    "def create_text_file(filepath):\n",
    "    with open(filepath, 'w') as file:\n",
    "        print(\"Enter 5-6 lines of text:\")\n",
    "        for _ in range(5):\n",
    "            line = input()\n",
    "            file.write(line+'\\n')\n",
    "\n",
    "    print(f\"Text file created successfully at {filepath}\")\n",
    "\n",
    "\n",
    "# Example usage\n",
    "file_path = \"sample.txt\"\n",
    "create_text_file(file_path)\n",
    "display_file_details(file_path)\n"
   ]
  },
  {
   "cell_type": "code",
   "execution_count": 11,
   "id": "e692edf3",
   "metadata": {},
   "outputs": [],
   "source": [
    "def count_characters(text):\n",
    "    uppercase=0\n",
    "    lowercase=0\n",
    "    digits= 0\n",
    "    for char in text:\n",
    "        if char.isupper():\n",
    "            uppercase+=1\n",
    "        elif char.islower():\n",
    "            lowercase+=1\n",
    "        elif char.isdigit():\n",
    "            digits+=1\n",
    "        \n",
    "    return uppercase,lowercase,digits\n",
    "\n",
    "def display_file_details(filepath):\n",
    "    with open (filepath,'r') as file:\n",
    "        file_content=  file.read()\n",
    "        \n",
    "        upper,lower,digit = count_characters(file_content)\n",
    "        \n",
    "    print(file_content)\n",
    "    print(upper,lower,digit)\n",
    "    "
   ]
  },
  {
   "cell_type": "code",
   "execution_count": null,
   "id": "83b43566",
   "metadata": {},
   "outputs": [],
   "source": [
    "def create_file(filepath)"
   ]
  }
 ],
 "metadata": {
  "kernelspec": {
   "display_name": "Python 3 (ipykernel)",
   "language": "python",
   "name": "python3"
  },
  "language_info": {
   "codemirror_mode": {
    "name": "ipython",
    "version": 3
   },
   "file_extension": ".py",
   "mimetype": "text/x-python",
   "name": "python",
   "nbconvert_exporter": "python",
   "pygments_lexer": "ipython3",
   "version": "3.9.12"
  }
 },
 "nbformat": 4,
 "nbformat_minor": 5
}
