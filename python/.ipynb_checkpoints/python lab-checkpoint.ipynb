{
 "cells": [
  {
   "cell_type": "code",
   "execution_count": 1,
   "id": "db132ea0",
   "metadata": {},
   "outputs": [
    {
     "name": "stdout",
     "output_type": "stream",
     "text": [
      "Enter the first number: 1\n",
      "Enter the second number: 2\n",
      "Select operation:\n",
      "1. Add\n",
      "2. Subtract\n",
      "3. Multiply\n",
      "4. Divide\n",
      "Enter choice (1/2/3/4): 1\n",
      "1.0 + 2.0 = 3.0\n"
     ]
    }
   ],
   "source": [
    "# Q1) A\n",
    "num1 = float(input(\"Enter the first number: \"))\n",
    "num2 = float(input(\"Enter the second number: \"))\n",
    "print(\"Select operation:\")\n",
    "print(\"1. Add\")\n",
    "print(\"2. Subtract\")\n",
    "print(\"3. Multiply\")\n",
    "print(\"4. Divide\")\n",
    "choice = int(input(\"Enter choice (1/2/3/4): \"))\n",
    "\n",
    "if choice == 1:\n",
    "    result = num1 + num2\n",
    "    print(num1, \"+\", num2, \"=\", result)\n",
    "elif choice == 2:\n",
    "    result = num1 - num2\n",
    "    print(num1, \"-\", num2, \"=\", result)\n",
    "elif choice == 3:\n",
    "    result = num1 * num2\n",
    "    print(num1, \"*\", num2, \"=\", result)\n",
    "elif choice == 4:\n",
    "    if num2 == 0:\n",
    "        print(\"Error: Division by zero\")\n",
    "    else:\n",
    "        result = num1 / num2\n",
    "        print(num1, \"/\", num2, \"=\", result)\n",
    "else:\n",
    "    print(\"Invalid choice\")\n"
   ]
  },
  {
   "cell_type": "code",
   "execution_count": 4,
   "id": "cfbcd4fc",
   "metadata": {},
   "outputs": [
    {
     "name": "stdout",
     "output_type": "stream",
     "text": [
      "[('date', 4), ('apple', 5), ('banana', 6), ('cherry', 6), ('elderberry', 10)]\n"
     ]
    }
   ],
   "source": [
    "# Q1) B\n",
    "\n",
    "strings = ['apple', 'banana', 'cherry', 'date', 'elderberry']\n",
    "tuples = [(s,len(s)) for s in strings]\n",
    "sorted_tuples = sorted(tuples,key = lambda x:x[1])\n",
    "print(sorted_tuples)"
   ]
  },
  {
   "cell_type": "code",
   "execution_count": 17,
   "id": "f13b8c06",
   "metadata": {},
   "outputs": [
    {
     "name": "stdout",
     "output_type": "stream",
     "text": [
      "Enter the first number0\n",
      "Enter the second number10\n",
      "2\n",
      "3\n",
      "4\n",
      "5\n",
      "6\n",
      "7\n",
      "8\n",
      "9\n"
     ]
    }
   ],
   "source": [
    "# Q2) A\n",
    "import math\n",
    "a = int(input(\"Enter the first number\"))\n",
    "b = int(input(\"Enter the second number\"))\n",
    "for i in range(a,b+1):\n",
    "    flag=True\n",
    "    for j in range(2,int(math.sqrt(i))):\n",
    "        if i%j==0:\n",
    "            flag=False\n",
    "            break\n",
    "    if(flag==True and i>1):\n",
    "        print(i)\n",
    "\n",
    "    "
   ]
  },
  {
   "cell_type": "code",
   "execution_count": 25,
   "id": "19934c65",
   "metadata": {},
   "outputs": [
    {
     "name": "stdout",
     "output_type": "stream",
     "text": [
      "List of subjects after inserting a new subject:\n",
      "['Data Structures and Algorithms', 'Computer Organization and Architecture', 'Computer Networks', 'Database Management Systems', 'Operating Systems', 'Python Programming Lab', 'Web Technologies and Applications']\n"
     ]
    }
   ],
   "source": [
    "# Q2) B\n",
    "subjects = ['Data Structures and Algorithms', 'Computer Organization and Architecture', 'Database Management Systems', 'Operating Systems', 'Python Programming Lab', 'Web Technologies and Applications']\n",
    "# for i in subjects:\n",
    "#     print(i)\n",
    "    \n",
    "# print(subjects[0])\n",
    "# print(subjects[4])\n",
    "# print(subjects[0:4])\n",
    "# print(subjects[-4:])\n",
    "# print(\"Python Programming Lab\" in subjects)\n",
    "# subjects.append(\"hi\")\n",
    "# print(subjects)\n",
    "subjects.insert(2, \"Computer Networks\") # \n",
    "print(\"List of subjects after inserting a new subject:\")\n",
    "print(subjects)\n"
   ]
  },
  {
   "cell_type": "code",
   "execution_count": 27,
   "id": "989632fc",
   "metadata": {},
   "outputs": [
    {
     "name": "stdout",
     "output_type": "stream",
     "text": [
      "Second largest number: 10\n"
     ]
    }
   ],
   "source": [
    "# Q3) A,B\n",
    "def second_largest(arr):\n",
    "arr = [10,9,8,7]\n",
    "second_largest(arr)"
   ]
  },
  {
   "cell_type": "code",
   "execution_count": 33,
   "id": "9e666728",
   "metadata": {},
   "outputs": [
    {
     "name": "stdout",
     "output_type": "stream",
     "text": [
      "7\n",
      "3\n",
      "3\n"
     ]
    }
   ],
   "source": [
    "# Q4)A,B\n",
    "\n",
    "# b.Develop a python program to count all the occurrences of vowels,\n",
    "# consonants and digits from the given text using Regular expressions.\n",
    "import re\n",
    "text = \"Hello World! 123\"\n",
    "\n",
    "# Define regular expressions for vowels, consonants, and digits\n",
    "vowels  = re.compile('[aeiouAEIOU]')\n",
    "consonants = re.compile('[bcdfghjklmnpqrstvwxyzBCDFGHJKLMNPQRSTVWXYZ]')\n",
    "digits = re.compile('[0-9]')\n",
    "\n",
    "\n",
    "vowels_count = len(re.findall(vowels,text))\n",
    "consonant_count = len(re.findall(consonants,text))\n",
    "digit_count = len(re.findall(digits,text))\n",
    "print(consonant_count)\n",
    "print(vowel_count)\n",
    "print(digit_count)"
   ]
  },
  {
   "cell_type": "code",
   "execution_count": 38,
   "id": "eed05bc8",
   "metadata": {},
   "outputs": [
    {
     "name": "stdout",
     "output_type": "stream",
     "text": [
      "6\n",
      "Enter an item to check for: 3\n",
      "3 is present in the tuple\n",
      "Enter the index to access2\n",
      "3\n"
     ]
    }
   ],
   "source": [
    "# Q5\n",
    "# A.\tWrite a python program to create a tuple and perform the following operations   \n",
    "# •\tAdding an items\n",
    "# •\tDisplaying the length of the tuple\n",
    "# •\tChecking for an item in the tuple\n",
    "# •\tAccessing an items\n",
    "my_tuple = (1, 2, 3, 4, 5)\n",
    "\n",
    "# Adding an item to the tuple\n",
    "my_tuple += (6,)\n",
    "print(len(my_tuple))\n",
    "\n",
    "item = int(input(\"Enter an item to check for: \"))\n",
    "if item in my_tuple:\n",
    "    print(item, \"is present in the tuple\")\n",
    "else:\n",
    "    print(item, \"is not present in the tuple\")\n",
    "\n",
    "# accessing elements using index\n",
    "\n",
    "num = int(input(\"Enter the index to access\"))\n",
    "if num>len(my_tuple)-1:\n",
    "    print(\"Enter a valid index\")\n",
    "else:\n",
    "    print(my_tuple[num])\n",
    "        \n",
    "    \n",
    "    "
   ]
  },
  {
   "cell_type": "code",
   "execution_count": 40,
   "id": "7156ec0c",
   "metadata": {},
   "outputs": [
    {
     "name": "stdout",
     "output_type": "stream",
     "text": [
      "Enter a line: hi\n",
      "Enter a line: ehllo\n",
      "Enter a line: erara\n",
      "Enter a line: araafdaf\n",
      "Enter a line: agagadgag\n",
      "agagadgag\n",
      "hi\n"
     ]
    }
   ],
   "source": [
    "# Q5 B\n",
    "filename = 'user_input.txt'\n",
    "with open (filename,'w') as file:\n",
    "    for i in range(5):\n",
    "        inp = input(\"Enter a line: \")\n",
    "        file.write(inp + '\\n')\n",
    "        \n",
    "with open(filename,'r')as file:\n",
    "    text = file.read()\n",
    "    words = text.split()\n",
    "    max_len = max(words,key=len)\n",
    "    min_len = min(words,key=len)\n",
    "    print(max_len)\n",
    "    print(min_len)"
   ]
  },
  {
   "cell_type": "code",
   "execution_count": 48,
   "id": "c936d57f",
   "metadata": {},
   "outputs": [
    {
     "name": "stdout",
     "output_type": "stream",
     "text": [
      "5\n"
     ]
    }
   ],
   "source": [
    "# a.\tWrite a python function binarySearch() to read a sorted array and search for the key element.\n",
    "# Display the appropriate messages.\n",
    "def binarySearch(arr,high,low,key):\n",
    "    if high>=low:\n",
    "        mid = (high+low)//2\n",
    "        if(arr[mid]==key):\n",
    "            return mid\n",
    "        if(key>arr[mid]):\n",
    "            return binarySearch(arr,high,mid+1,key)\n",
    "        else:\n",
    "            return binarySearch(arr,mid-1,low,key)\n",
    "    else:\n",
    "        return -1\n",
    "        \n",
    "arr = [1,2,7,34,56] #should be sorted array \n",
    "print(binarySearch(arr,len(arr)-1,0,56)+1)"
   ]
  },
  {
   "cell_type": "code",
   "execution_count": 49,
   "id": "1da2f862",
   "metadata": {},
   "outputs": [
    {
     "name": "stdout",
     "output_type": "stream",
     "text": [
      "Current balance: 1000\n",
      "Amount 500 deposited successfully.\n",
      "Current balance: 1500\n",
      "Amount 200 withdrawn successfully.\n",
      "Current balance: 1300\n",
      "Error: Insufficient balance.\n"
     ]
    }
   ],
   "source": [
    "# b.\tWrite a python program to simulate saving account processing in a bank using constructors. \n",
    "# Create Deposit and Withdraw with other member function and Check for Validation while withdrawing the amount. \n",
    "# Raise the appropriate exceptions when depositing and withdrawing an incorrect amount.\n",
    "# Display appropriate messages.\n",
    "class SavingsAccount:\n",
    "    def __init__(self, initial_balance=0):\n",
    "        if initial_balance < 0:\n",
    "            raise ValueError(\"Initial balance cannot be negative.\")\n",
    "        self.balance = initial_balance\n",
    "\n",
    "    def deposit(self, amount):\n",
    "        if amount <= 0:\n",
    "            raise ValueError(\"Deposit amount should be greater than zero.\")\n",
    "        self.balance += amount\n",
    "        print(f\"Amount {amount} deposited successfully.\")\n",
    "        self.display_balance()\n",
    "\n",
    "    def withdraw(self, amount):\n",
    "        if amount <= 0:\n",
    "            raise ValueError(\"Withdrawal amount should be greater than zero.\")\n",
    "        if amount > self.balance:\n",
    "            raise ValueError(\"Insufficient balance.\")\n",
    "        self.balance -= amount\n",
    "        print(f\"Amount {amount} withdrawn successfully.\")\n",
    "        self.display_balance()\n",
    "\n",
    "    def display_balance(self):\n",
    "        print(f\"Current balance: {self.balance}\")\n",
    "\n",
    "\n",
    "# Example usage\n",
    "try:\n",
    "    account = SavingsAccount(1000)\n",
    "    account.display_balance()\n",
    "    account.deposit(500)\n",
    "    account.withdraw(200)\n",
    "    account.withdraw(2000)  # Raises ValueError: Insufficient balance\n",
    "    account.withdraw(-100)  # Raises ValueError: Withdrawal amount should be greater than zero\n",
    "except ValueError as error:\n",
    "    print(f\"Error: {str(error)}\")\n"
   ]
  },
  {
   "cell_type": "code",
   "execution_count": 50,
   "id": "f95bc99e",
   "metadata": {},
   "outputs": [
    {
     "name": "stdout",
     "output_type": "stream",
     "text": [
      "Pushed 10 into the stack.\n",
      "Pushed 20 into the stack.\n",
      "Pushed 30 into the stack.\n",
      "Stack content:\n",
      "30\n",
      "20\n",
      "10\n",
      "Popped item: 30\n",
      "Stack content:\n",
      "20\n",
      "10\n",
      "Popped item: 20\n",
      "Stack content:\n",
      "10\n",
      "Enqueued A into the queue.\n",
      "Enqueued B into the queue.\n",
      "Enqueued C into the queue.\n",
      "Queue content:\n",
      "A\n",
      "B\n",
      "C\n",
      "Dequeued item: A\n",
      "Queue content:\n",
      "B\n",
      "C\n",
      "Dequeued item: B\n",
      "Queue content:\n",
      "C\n"
     ]
    }
   ],
   "source": [
    "# 7 A\n",
    "class Stack:\n",
    "    def __init__(self):\n",
    "        self.stack = []\n",
    "\n",
    "    def is_empty(self):\n",
    "        return len(self.stack) == 0\n",
    "\n",
    "    def push(self, item):\n",
    "        self.stack.append(item)\n",
    "        print(f\"Pushed {item} into the stack.\")\n",
    "\n",
    "    def pop(self):\n",
    "        if self.is_empty():\n",
    "            raise IndexError(\"Stack is empty. Cannot pop an item.\")\n",
    "        return self.stack.pop()\n",
    "\n",
    "    def display(self):\n",
    "        if self.is_empty():\n",
    "            print(\"Stack is empty.\")\n",
    "        else:\n",
    "            print(\"Stack content:\")\n",
    "            for item in reversed(self.stack):\n",
    "                print(item)\n",
    "\n",
    "\n",
    "class Queue:\n",
    "    def __init__(self):\n",
    "        self.queue = []\n",
    "\n",
    "    def is_empty(self):\n",
    "        return len(self.queue) == 0\n",
    "\n",
    "    def enqueue(self, item):\n",
    "        self.queue.append(item)\n",
    "        print(f\"Enqueued {item} into the queue.\")\n",
    "\n",
    "    def dequeue(self):\n",
    "        if self.is_empty():\n",
    "            raise IndexError(\"Queue is empty. Cannot dequeue an item.\")\n",
    "        return self.queue.pop(0)\n",
    "\n",
    "    def display(self):\n",
    "        if self.is_empty():\n",
    "            print(\"Queue is empty.\")\n",
    "        else:\n",
    "            print(\"Queue content:\")\n",
    "            for item in self.queue:\n",
    "                print(item)\n",
    "\n",
    "\n",
    "# Example usage\n",
    "try:\n",
    "    # Stack operations\n",
    "    stack = Stack()\n",
    "    stack.push(10)\n",
    "    stack.push(20)\n",
    "    stack.push(30)\n",
    "    stack.display()\n",
    "    print(\"Popped item:\", stack.pop())\n",
    "    stack.display()\n",
    "    print(\"Popped item:\", stack.pop())\n",
    "    stack.display()\n",
    "    # stack.pop()  # Raises IndexError: Stack is empty. Cannot pop an item.\n",
    "\n",
    "    # Queue operations\n",
    "    queue = Queue()\n",
    "    queue.enqueue(\"A\")\n",
    "    queue.enqueue(\"B\")\n",
    "    queue.enqueue(\"C\")\n",
    "    queue.display()\n",
    "    print(\"Dequeued item:\", queue.dequeue())\n",
    "    queue.display()\n",
    "    print(\"Dequeued item:\", queue.dequeue())\n",
    "    queue.display()\n",
    "    # queue.dequeue()  # Raises IndexError: Queue is empty. Cannot dequeue an item.\n",
    "\n",
    "except IndexError as error:\n",
    "    print(f\"Error: {str(error)}\")\n"
   ]
  },
  {
   "cell_type": "code",
   "execution_count": 57,
   "id": "2e5e0dac",
   "metadata": {},
   "outputs": [
    {
     "name": "stdout",
     "output_type": "stream",
     "text": [
      "Random Numbers: [38, 87, 6, 72, 80, 18, 19, 41, 85, 3, 5, 49, 14, 38, 3, 8, 76, 96, 23, 50]\n",
      "Odd numbers of length 2 and 4:\n",
      "87\n",
      "19\n",
      "41\n",
      "85\n",
      "49\n",
      "23\n"
     ]
    }
   ],
   "source": [
    "# 7 B\n",
    "import random\n",
    "\n",
    "numbers = []\n",
    "for _ in range(20):\n",
    "    numbers.append(random.randint(1, 100))\n",
    "\n",
    "print(\"Random Numbers:\", numbers)\n",
    "\n",
    "odd_numbers = []\n",
    "for num in numbers:\n",
    "    if num % 2 != 0:\n",
    "        num_length = len(str(num))\n",
    "        if num_length == 2 or num_length == 4:\n",
    "            odd_numbers.append(num)\n",
    "\n",
    "print(\"Odd numbers of length 2 and 4:\")\n",
    "for odd_num in odd_numbers:\n",
    "    print(odd_num)\n"
   ]
  },
  {
   "cell_type": "code",
   "execution_count": 58,
   "id": "609d7373",
   "metadata": {},
   "outputs": [
    {
     "name": "stdout",
     "output_type": "stream",
     "text": [
      "The result of 10 / 2 is 5.0.\n",
      "Division operation completed.\n",
      "Error: Cannot divide by zero.\n",
      "Division operation completed.\n",
      "Error: Invalid operand type.\n",
      "Division operation completed.\n"
     ]
    }
   ],
   "source": [
    "# 8 A\n",
    "def divide_numbers(a, b):\n",
    "    try:\n",
    "        result = a / b\n",
    "    except ZeroDivisionError:\n",
    "        print(\"Error: Cannot divide by zero.\")\n",
    "    except TypeError:\n",
    "        print(\"Error: Invalid operand type.\")\n",
    "    else:\n",
    "        print(f\"The result of {a} / {b} is {result}.\")\n",
    "    finally:\n",
    "        print(\"Division operation completed.\")\n",
    "\n",
    "# Example usage\n",
    "divide_numbers(10, 2)\n",
    "divide_numbers(10, 0)\n",
    "divide_numbers(10, '2')\n"
   ]
  },
  {
   "cell_type": "code",
   "execution_count": null,
   "id": "6011945e",
   "metadata": {},
   "outputs": [],
   "source": [
    "def count_characters(text):\n",
    "    uppercase_count = 0\n",
    "    lowercase_count = 0\n",
    "    digit_count = 0\n",
    "\n",
    "    for char in text:\n",
    "        if char.isupper():\n",
    "            uppercase_count += 1\n",
    "        elif char.islower():\n",
    "            lowercase_count += 1\n",
    "        elif char.isdigit():\n",
    "            digit_count += 1\n",
    "\n",
    "    return uppercase_count, lowercase_count, digit_count\n",
    "\n",
    "\n",
    "def display_file_details(filepath):\n",
    "    with open(filepath, 'r') as file:\n",
    "        file_content = file.read()\n",
    "\n",
    "    uppercase_count, lowercase_count, digit_count = count_characters(file_content)\n",
    "\n",
    "    print(f\"File Details - {filepath}:\")\n",
    "    print(\"---------\")\n",
    "    print(\"Content:\")\n",
    "    print(file_content)\n",
    "    print(\"---------\")\n",
    "    print(\"Character Counts:\")\n",
    "    print(f\"Uppercase: {uppercase_count}\")\n",
    "    print(f\"Lowercase: {lowercase_count}\")\n",
    "    print(f\"Digits: {digit_count}\")\n",
    "\n",
    "\n",
    "def create_text_file(filepath):\n",
    "    lines = []\n",
    "    print(\"Enter 5-6 lines of text:\")\n",
    "    for _ in range(5):\n",
    "        line = input()\n",
    "        lines.append(line)\n",
    "\n",
    "    with open(filepath, 'w') as file:\n",
    "        file.write('\\n'.join(lines))\n",
    "\n",
    "    print(f\"Text file created successfully at {filepath}\")\n",
    "\n",
    "\n",
    "# Example usage\n",
    "file_path = \"sample.txt\"\n",
    "create_text_file(file_path)\n",
    "display_file_details(file_path)\n"
   ]
  },
  {
   "cell_type": "code",
   "execution_count": null,
   "id": "c6b960f7",
   "metadata": {},
   "outputs": [],
   "source": []
  }
 ],
 "metadata": {
  "kernelspec": {
   "display_name": "Python 3 (ipykernel)",
   "language": "python",
   "name": "python3"
  },
  "language_info": {
   "codemirror_mode": {
    "name": "ipython",
    "version": 3
   },
   "file_extension": ".py",
   "mimetype": "text/x-python",
   "name": "python",
   "nbconvert_exporter": "python",
   "pygments_lexer": "ipython3",
   "version": "3.9.12"
  }
 },
 "nbformat": 4,
 "nbformat_minor": 5
}
